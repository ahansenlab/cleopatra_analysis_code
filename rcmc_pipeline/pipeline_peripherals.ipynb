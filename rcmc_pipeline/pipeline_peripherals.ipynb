{
 "cells": [
  {
   "cell_type": "code",
   "execution_count": null,
   "metadata": {},
   "outputs": [],
   "source": [
    "samples = []\n",
    "# /path/to/fastq files\n",
    "filepath = '/home/gridsan/chong/hansen_lab_shared/clarice/megapool_050624/fastq/'\n",
    "\n",
    "# file containing R1 (read1) fastq filenames, one file per line\n",
    "with open('R1_fastqs.txt', 'r') as f:\n",
    "    for line in f:\n",
    "        r1_filename = line.strip('\\n')\n",
    "        r2_filename = r1_filename.replace('R1_001', 'R2_001')\n",
    "        metadata = r1_filename.split('_')\n",
    "        sample = metadata[3]\n",
    "        rep = metadata[4]\n",
    "        lane = metadata[6]\n",
    "        id = '_'.join([sample, rep, lane])\n",
    "        samples.append([id, sample, rep, lane, filepath + r1_filename, filepath + r2_filename])"
   ]
  },
  {
   "cell_type": "code",
   "execution_count": null,
   "metadata": {},
   "outputs": [],
   "source": [
    "# sample map used for Snakemake \n",
    "with open('sample_map.csv', 'w') as f:\n",
    "    f.write('sample_id,sample,rep,lane,fastq_r1,fastq_r2\\n')\n",
    "    for i in samples:\n",
    "        f.write(','.join(i) + '\\n')"
   ]
  },
  {
   "cell_type": "markdown",
   "metadata": {},
   "source": [
    "### Parse pairtools stats files"
   ]
  },
  {
   "cell_type": "code",
   "execution_count": null,
   "metadata": {},
   "outputs": [],
   "source": [
    "def parse_stats(filename):\n",
    "    \"\"\"\n",
    "    Parse output of pairtools stats function\n",
    "    \"\"\"\n",
    "    out = {}\n",
    "    \n",
    "    with open(filename, 'r') as f:\n",
    "        for line in f:\n",
    "            line = line.strip('\\n').split('\\t')\n",
    "            if line[0] == 'total_mapped':\n",
    "                out['mapped'] = int(line[1])\n",
    "            elif line[0] == 'total_dups':\n",
    "                out['dups'] = int(line[1])\n",
    "            elif line[0] == 'total_nodups':\n",
    "                out['nodups'] = int(line[1])\n",
    "                break\n",
    "            else:\n",
    "                pass\n",
    "\n",
    "    return out"
   ]
  },
  {
   "cell_type": "code",
   "execution_count": null,
   "metadata": {},
   "outputs": [],
   "source": [
    "# write pairtools stats for each location and replicate to file\n",
    "parsed_stats = open('pairtools_dup_stats.txt', 'w')\n",
    "parsed_stats.write('sample\\tmapped\\tnodups\\tdups\\tperc_nodup\\n')\n",
    "\n",
    "with open('stats_filenames.txt', 'r') as f:\n",
    "    for line in f:\n",
    "        sample = line.strip('_stats.txt\\n').split('/')[1]\n",
    "        stats = parse_stats(line.strip('\\n'))\n",
    "        percentage_nodup = stats['nodups']/stats['mapped']\n",
    "        parsed_stats.write('{sample}\\t{mapped:,}\\t{nodups:,}\\t{dups:,}\\t{perc:.2f}\\n'.format(\n",
    "            sample = sample, mapped = stats['mapped'], nodups = stats['nodups'], dups = stats['dups'],\n",
    "            perc = percentage_nodup\n",
    "        ))\n",
    "\n",
    "parsed_stats.close()"
   ]
  }
 ],
 "metadata": {
  "kernelspec": {
   "display_name": "genometools",
   "language": "python",
   "name": "python3"
  },
  "language_info": {
   "codemirror_mode": {
    "name": "ipython",
    "version": 3
   },
   "file_extension": ".py",
   "mimetype": "text/x-python",
   "name": "python",
   "nbconvert_exporter": "python",
   "pygments_lexer": "ipython3",
   "version": "3.10.12"
  }
 },
 "nbformat": 4,
 "nbformat_minor": 2
}
