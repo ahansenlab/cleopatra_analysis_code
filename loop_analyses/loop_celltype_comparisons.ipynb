{
 "cells": [
  {
   "cell_type": "markdown",
   "metadata": {},
   "source": [
    "### Compare loops across celltypes"
   ]
  },
  {
   "cell_type": "code",
   "execution_count": 1,
   "metadata": {},
   "outputs": [],
   "source": [
    "import pybedtools"
   ]
  },
  {
   "cell_type": "code",
   "execution_count": null,
   "metadata": {},
   "outputs": [],
   "source": [
    "def make_bt(filename, celltype):\n",
    "\n",
    "    ranges = []\n",
    "    slop = 2000\n",
    "\n",
    "    with open(filename, 'r') as f:\n",
    "        for line in f:\n",
    "            line = line.strip('\\n').split('\\t')\n",
    "            updated_id = celltype + ':' + line[-1] \n",
    "            start1 = int(line[1]) - slop\n",
    "            end1 = int(line[2]) + slop\n",
    "            start2 = int(line[4]) - slop\n",
    "            end2 = int(line[5]) + slop\n",
    "            ranges.append([line[0], start1, end1, line[0], start2, end2, updated_id])\n",
    "\n",
    "    bt = pybedtools.BedTool(ranges)\n",
    "    \n",
    "    return bt"
   ]
  },
  {
   "cell_type": "code",
   "execution_count": 3,
   "metadata": {},
   "outputs": [],
   "source": [
    "bt1 = make_bt('GM12878_rcmc_all_1kb.bedpe', 'GM12878')\n",
    "bt2 = make_bt('HCT116_rcmc_all_1kb.bedpe', 'HCT116')\n",
    "bt3 = make_bt('H1_rcmc_all_1kb.bedpe', 'H1')\n",
    "bt4 = make_bt('K562_rcmc_all_1kb.bedpe', 'K562')\n",
    "\n",
    "# bt1 = make_bt('../predicted_merged_loopcalls/GM12878_genome_wide_0.001_pred_merged_loops.txt', 'GM12878')\n",
    "# bt2 = make_bt('../predicted_merged_loopcalls/HCT116_genome_wide_0.001_pred_merged_loops.txt', 'HCT116')\n",
    "# bt3 = make_bt('../predicted_merged_loopcalls/H1_genome_wide_0.001_pred_merged_loops.txt', 'H1')\n",
    "# bt4 = make_bt('../predicted_merged_loopcalls/K562_genome_wide_0.001_pred_merged_loops.txt', 'K562')"
   ]
  },
  {
   "cell_type": "code",
   "execution_count": 4,
   "metadata": {},
   "outputs": [],
   "source": [
    "def cleaned_intersect(x, y, z, q, min_fraction = 0.5):\n",
    "    \"\"\"\n",
    "    modified from https://daler.github.io/pybedtools/_modules/pybedtools/contrib/venn_maker.html#cleaned_intersect\n",
    "    \"\"\"\n",
    "\n",
    "    # Same as 2-way\n",
    "    unique_to_y = y.pair_to_pair(x, type='notboth', f=min_fraction)\n",
    "    y_shared_with_x = x.pair_to_pair(y, type='both', f=min_fraction)\n",
    "    # postmerge controls whether the intervals are merged after concatenation\n",
    "    new_y = unique_to_y.cat(y_shared_with_x, postmerge=False)\n",
    "\n",
    "    # Same as 3-way\n",
    "    unique_to_z = z.pair_to_pair(x, type='notboth', f=min_fraction).pair_to_pair(y, type='notboth', f=min_fraction)\n",
    "    z_shared_with_x = x.pair_to_pair(z, type='both', f=min_fraction)\n",
    "    to_remove1 = z.pair_to_pair(x, type='both', f=min_fraction)\n",
    "    z_shared_with_unique_y = unique_to_y.pair_to_pair(z, type='both', f=min_fraction)\n",
    "    z_shared_with_unique_y_distinct = z_shared_with_unique_y.pair_to_pair(to_remove1, type='notboth', f=min_fraction)\n",
    "\n",
    "    new_z = unique_to_z.cat(z_shared_with_x, postmerge=False).cat(z_shared_with_unique_y_distinct, postmerge=False)\n",
    "    # Combine:\n",
    "    #  unique-to-q\n",
    "    #  shared-with-any-x\n",
    "    #  shared-with-unique-to-y\n",
    "    #  shared-with-unique-to-z\n",
    "    unique_to_q = q.pair_to_pair(z, type='notboth', f=min_fraction).pair_to_pair(y, type='notboth', f=min_fraction).pair_to_pair(x, type='notboth', f=min_fraction)\n",
    "    q_shared_with_x = x.pair_to_pair(q, type='both', f=min_fraction)\n",
    "    to_remove2 = q.pair_to_pair(x, type='both', f=min_fraction)\n",
    "    q_shared_with_unique_y = unique_to_y.pair_to_pair(q, type='both', f=min_fraction)\n",
    "    q_shared_with_unique_y_distinct = q_shared_with_unique_y.pair_to_pair(to_remove2, type='notboth', f=min_fraction)\n",
    "    to_remove3 = q.pair_to_pair(q_shared_with_unique_y_distinct, type='both', f=min_fraction)\n",
    "    q_shared_with_unique_z = unique_to_z.pair_to_pair(q, type='both', f=min_fraction)\n",
    "    q_shared_with_unique_z_distinct = q_shared_with_unique_z.pair_to_pair(to_remove2, type='notboth', f=min_fraction).pair_to_pair(to_remove3,  type='notboth', f=min_fraction)\n",
    "\n",
    "    new_q = unique_to_q.cat(q_shared_with_x, postmerge=False).cat(q_shared_with_unique_y_distinct, postmerge=False).cat(q_shared_with_unique_z_distinct, postmerge=False)\n",
    "    \n",
    "    return x, new_y, new_z, new_q"
   ]
  },
  {
   "cell_type": "code",
   "execution_count": 5,
   "metadata": {},
   "outputs": [],
   "source": [
    "updated = cleaned_intersect(bt1, bt2, bt3, bt4, min_fraction=0.3)"
   ]
  },
  {
   "cell_type": "code",
   "execution_count": null,
   "metadata": {},
   "outputs": [],
   "source": [
    "updated[0].saveas('GM12878_rcmc_all_2kb_updated.bedpe')\n",
    "updated[1].saveas('HCT116_rcmc_all_2kb_updated.bedpe')\n",
    "updated[2].saveas('H1_rcmc_all_2kb_updated.bedpe')\n",
    "updated[3].saveas('K562_rcmc_all_2kb_updated.bedpe')\n",
    "\n",
    "# updated[0].saveas('../predicted_merged_loopcalls/updated_loops_for_comparisons/GM12878_genome_predicted_2kb_updated.bedpe')\n",
    "# updated[1].saveas('../predicted_merged_loopcalls/updated_loops_for_comparisons/HCT116_genome_predicted_2kb_updated.bedpe')\n",
    "# updated[2].saveas('../predicted_merged_loopcalls/updated_loops_for_comparisons/H1_genome_predicted_2kb_updated.bedpe')\n",
    "# updated[3].saveas('../predicted_merged_loopcalls/updated_loops_for_comparisons/K562_genome_predicted_2kb_updated.bedpe')"
   ]
  },
  {
   "cell_type": "markdown",
   "metadata": {},
   "source": [
    "### Loop pileup analyses"
   ]
  },
  {
   "cell_type": "code",
   "execution_count": null,
   "metadata": {},
   "outputs": [],
   "source": [
    "import cooler\n",
    "import cooltools\n",
    "import coolpuppy\n",
    "from coolpuppy import coolpup\n",
    "from coolpuppy import plotpup\n",
    "import pandas as pd\n",
    "import bioframe\n",
    "import matplotlib.pyplot as plt\n",
    "import numpy as np\n",
    "import pickle\n",
    "import warnings\n",
    "warnings.simplefilter(action='ignore', category=FutureWarning)\n",
    "\n",
    "plt.rc('pdf',fonttype = 42)\n",
    "from matplotlib.font_manager import FontProperties\n",
    "\n",
    "# change or remove to not use Helvetica\n",
    "default_font = FontProperties(fname=\"/mnt/md0/clarice/packages/fonts/Helvetica.ttf\")"
   ]
  },
  {
   "cell_type": "code",
   "execution_count": null,
   "metadata": {},
   "outputs": [],
   "source": [
    "celltypes = ['GM12878', 'HCT116', 'K562', 'H1']"
   ]
  },
  {
   "cell_type": "code",
   "execution_count": null,
   "metadata": {},
   "outputs": [],
   "source": [
    "rcmc_clrs = {}\n",
    "\n",
    "for celltype in celltypes:\n",
    "    rcmc_clrs[celltype] = cooler.Cooler(f'/mnt/md0/clarice/realigned_rcmc_merged/{celltype}_merged_realigned.50.mcool::resolutions/200')"
   ]
  },
  {
   "cell_type": "code",
   "execution_count": null,
   "metadata": {},
   "outputs": [],
   "source": [
    "hg38_chromsizes = bioframe.fetch_chromsizes('hg38')\n",
    "hg38_cens = bioframe.fetch_centromeres('hg38')\n",
    "hg38_arms = bioframe.make_chromarms(hg38_chromsizes, hg38_cens)\n",
    "hg38_arms = hg38_arms[hg38_arms.chrom.isin(rcmc_clrs['GM12878'].chromnames)].reset_index(drop=True)\n",
    "hg38_arms = hg38_arms[hg38_arms['chrom'] != 'chrY']"
   ]
  },
  {
   "cell_type": "code",
   "execution_count": null,
   "metadata": {},
   "outputs": [],
   "source": [
    "region_df = pd.read_csv('/mnt/md0/clarice/src/region_idx.txt', sep='\\t').rename(columns={'region_id':'name'})\n",
    "region_df = bioframe.sort_bedframe(region_df, view_df=hg38_chromsizes)"
   ]
  },
  {
   "cell_type": "code",
   "execution_count": null,
   "metadata": {},
   "outputs": [],
   "source": [
    "all_loops = pd.read_csv('../example_data/loop_examples/all_rcmc_annotated_loops.tsv', sep = '\\t')\n",
    "all_loops.rename(columns={'seqnames1': 'chrom1', 'seqnames2': 'chrom2'})\n",
    "\n",
    "all_loops_by_celltype = {}\n",
    "\n",
    "for celltype in celltypes:\n",
    "    all_loops_by_celltype[celltype] = all_loops[all_loops['celltype'] == celltype]"
   ]
  },
  {
   "cell_type": "code",
   "execution_count": null,
   "metadata": {},
   "outputs": [],
   "source": [
    "expected_dfs = {}\n",
    "\n",
    "for celltype in celltypes:\n",
    "    expected_dfs[celltype] = cooltools.expected_cis(\n",
    "                        clr=rcmc_clrs[celltype],\n",
    "                        view_df=region_df,\n",
    "                        smooth=True,\n",
    "                        aggregate_smoothed=True,\n",
    "                        smooth_sigma=0.1,\n",
    "                        nproc=16\n",
    "                    )\n"
   ]
  },
  {
   "cell_type": "code",
   "execution_count": null,
   "metadata": {},
   "outputs": [],
   "source": [
    "# all loop pileups\n",
    "all_pups = {}\n",
    "full_pups = {}\n",
    "\n",
    "for celltype, clr in rcmc_clrs.items():\n",
    "    for loop_celltype, loops in all_loops_by_celltype.items():\n",
    "        name = f'{celltype}_{loop_celltype}'\n",
    "        pup = coolpup.pileup(clr, loops, features_format='bedpe', view_df=region_df, expected_df=expected_dfs[celltype], nproc=8, flank=20000)\n",
    "        full_pups[name] = pup\n",
    "        all_pups[name] = pup['data'][0]"
   ]
  },
  {
   "cell_type": "code",
   "execution_count": null,
   "metadata": {},
   "outputs": [],
   "source": [
    "# E-P loop pileups\n",
    "ep_pups = {}\n",
    "\n",
    "ep_loops = {}\n",
    "for celltype, loops in all_loops_by_celltype.items():\n",
    "    ep_loops[celltype] = loops.query(\"loop_class == ['E-P']\")\n",
    "\n",
    "for celltype, clr in rcmc_clrs.items():\n",
    "    for loop_celltype, loops in ep_loops.items():\n",
    "        name = f'{celltype}_{loop_celltype}'\n",
    "        pup = coolpup.pileup(clr, loops, features_format='bedpe', view_df=region_df, expected_df=expected_dfs[celltype], nproc=8, flank=20000)\n",
    "        ep_pups[name] = pup['data'][0]"
   ]
  },
  {
   "cell_type": "code",
   "execution_count": null,
   "metadata": {},
   "outputs": [],
   "source": [
    "# CTCF loop pileups\n",
    "ctcf_pups = {}\n",
    "\n",
    "ctcf_loops = {}\n",
    "for celltype, loops in all_loops_by_celltype.items():\n",
    "    ctcf_loops[celltype] = loops.query(\"loop_class == ['CTCF-CTCF']\")\n",
    "\n",
    "for celltype, clr in rcmc_clrs.items():\n",
    "    for loop_celltype, loops in ctcf_loops.items():\n",
    "        name = f'{celltype}_{loop_celltype}'\n",
    "        pup = coolpup.pileup(clr, loops, features_format='bedpe', view_df=region_df, expected_df=expected_dfs[celltype], nproc=8, flank=20000)\n",
    "        ctcf_pups[name] = pup['data'][0]"
   ]
  },
  {
   "cell_type": "code",
   "execution_count": null,
   "metadata": {},
   "outputs": [],
   "source": [
    "def get_enrichment(amap, n, dec=2):\n",
    "    \"\"\"\n",
    "    Function directly from the coolpuppy package\n",
    "    \"\"\"\n",
    "    c = int(np.floor(amap.shape[0]/2))\n",
    "    return np.round(np.nanmean(amap[c-n//2:c+n//2+1, c-n//2:c+n//2+1]), decimals=dec)\n",
    "\n",
    "def annotate_enrichment(ax, amap, n, dec=2, size=6, bold=False):\n",
    "    \"\"\"\n",
    "    Function modified from the coolpuppy package, to control where the enrichment annotation goes\n",
    "    \"\"\"\n",
    "    enr = get_enrichment(amap, n, dec)\n",
    "    if bold == False:\n",
    "        ax.text(10, 40, enr, ha='left', va='bottom', fontsize=size, fontproperties = default_font)\n",
    "    else:\n",
    "        ax.text(10, 40, enr, ha='left', va='bottom', fontsize=size, fontproperties = FontProperties(fname=\"/mnt/md0/clarice/packages/fonts/helvetica-bold.ttf\"))"
   ]
  },
  {
   "cell_type": "code",
   "execution_count": null,
   "metadata": {},
   "outputs": [],
   "source": [
    "# Plot pileup\n",
    "fig, axs = plt.subplots(figsize=[10, 5],\n",
    "                        nrows=4,\n",
    "                        ncols=4)\n",
    "\n",
    "# limits empirically determined - change for all/EP/CTCF plot\n",
    "\n",
    "# limits for all loops\n",
    "loop_limits = {'GM12878': (-0.5, 1.5), 'HCT116': (-0.2, 1.6), 'K562': (-0.5, 1.4), 'H1': (-0.8, 2)}\n",
    "# limits for E-P loops\n",
    "# loop_limits = {'GM12878': (-0.5, 1.5), 'HCT116': (-0.2, 1.4), 'K562': (-0.8, 1.2), 'H1': (-0.3, 1.8)}\n",
    "# limits for CTCF loops\n",
    "# loop_limits = {'GM12878': (-1, 2.7), 'HCT116': (-1, 2.8), 'K562': (-1, 3), 'H1': (-1, 3)}\n",
    "\n",
    "for row_idx, loop_celltype in enumerate(celltypes):\n",
    "    for col_idx, celltype in enumerate(celltypes):\n",
    "        name = f'{celltype}_{loop_celltype}'\n",
    "        ax = axs[row_idx, col_idx]\n",
    "        amin, amax = loop_limits[loop_celltype]\n",
    "        # change for all/EP/CTCF loops\n",
    "        data = all_pups[name]\n",
    "        m = ax.imshow(np.log2(data), cmap='coolwarm', vmax = amax, vmin = amin)\n",
    "        ax.set_yticks([], [])\n",
    "        ax.set_xticks([], [])\n",
    "\n",
    "        if celltype == loop_celltype:\n",
    "            annotate_enrichment(ax, data, 3, size=10, bold=True)\n",
    "        else:\n",
    "            annotate_enrichment(ax, data, 3, size=10)\n",
    "\n",
    "        if row_idx == 0:\n",
    "            ax.set_title(celltype, rotation=0, size=12, fontproperties = default_font)\n",
    "        if col_idx == 0:\n",
    "            ax.set_ylabel(loop_celltype, size=12, fontproperties = default_font)\n",
    "        \n",
    "    # Define a new axis for the colorbar using `add_axes`\n",
    "    cax = fig.add_axes([ax.get_position().x1 - 0.15,  # x-position of colorbar\n",
    "                        ax.get_position().y0,        # y-position of colorbar\n",
    "                        0.01,                        # width of colorbar\n",
    "                        ax.get_position().height])   # height of colorbar\n",
    "\n",
    "    cb = plt.colorbar(m, cax=cax)\n",
    "    mid = round((amin + amax)/2, 2)\n",
    "    cb.set_ticks([amin, mid, amax])\n",
    "    cb.set_ticklabels([amin, mid, amax], fontproperties = default_font)\n",
    "    cb.ax.minorticks_off()\n",
    "\n",
    "# change for all/EP/CTCF loops\n",
    "plt.text(-43, 3.5, 'loops called in', fontsize=14, rotation = 'vertical', fontproperties = default_font)\n",
    "plt.subplots_adjust(left=None, bottom=None, right=None, top=None, wspace=-0.8, hspace=None)\n",
    "plt.savefig('figures/all_loop_pileup.pdf')"
   ]
  }
 ],
 "metadata": {
  "kernelspec": {
   "display_name": "Python 3",
   "language": "python",
   "name": "python3"
  },
  "language_info": {
   "codemirror_mode": {
    "name": "ipython",
    "version": 3
   },
   "file_extension": ".py",
   "mimetype": "text/x-python",
   "name": "python",
   "nbconvert_exporter": "python",
   "pygments_lexer": "ipython3",
   "version": "3.10.15"
  }
 },
 "nbformat": 4,
 "nbformat_minor": 2
}
