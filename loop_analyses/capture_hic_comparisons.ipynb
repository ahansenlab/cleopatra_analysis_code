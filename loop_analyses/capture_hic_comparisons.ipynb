{
 "cells": [
  {
   "cell_type": "code",
   "execution_count": null,
   "id": "73167c83",
   "metadata": {},
   "outputs": [],
   "source": [
    "import cooler\n",
    "import cooltools\n",
    "from coolpuppy import coolpup\n",
    "from coolpuppy import plotpup\n",
    "import pandas as pd\n",
    "import bioframe\n",
    "import matplotlib.pyplot as plt\n",
    "\n",
    "import warnings\n",
    "warnings.simplefilter(action='ignore', category=FutureWarning)\n",
    "\n",
    "import matplotlib as mpl\n",
    "mpl.rcParams['pdf.fonttype'] = 42"
   ]
  },
  {
   "cell_type": "code",
   "execution_count": null,
   "id": "64704bca",
   "metadata": {},
   "outputs": [],
   "source": [
    "hg38_chromsizes = bioframe.fetch_chromsizes('hg38')\n",
    "hg38_cens = bioframe.fetch_centromeres('hg38')\n",
    "hg38_arms = bioframe.make_chromarms(hg38_chromsizes, hg38_cens)"
   ]
  },
  {
   "cell_type": "code",
   "execution_count": null,
   "id": "850654e6",
   "metadata": {},
   "outputs": [],
   "source": [
    "region_df = pd.read_csv('/mnt/md0/clarice/src/region_idx.txt', sep='\\t').rename(columns={'region_id':'name'})\n",
    "region_df = bioframe.sort_bedframe(region_df, view_df=hg38_chromsizes)"
   ]
  },
  {
   "cell_type": "code",
   "execution_count": null,
   "id": "00c5df36",
   "metadata": {},
   "outputs": [],
   "source": [
    "all_rcmc_loops = pd.read_csv('../example_data/loop_examples/GM12878_rcmc_all_1kb.bedpe', sep='\\t', names=['chrom1', 'start1', 'end1', 'chrom2', 'start2', 'end2', 'loop_id'])"
   ]
  },
  {
   "cell_type": "code",
   "execution_count": null,
   "id": "827caeeb",
   "metadata": {},
   "outputs": [],
   "source": [
    "# from capture_hic_comparisons.Rmd\n",
    "rcmc_unique_loops = pd.read_csv('mifsud_et_al_2015/GM12878_rcmc_unique_loops_vs_mifsud.txt', sep='\\t')\n",
    "rcmc_unique_loops = rcmc_unique_loops[rcmc_unique_loops['overlap'] == 'RCMC_unique']"
   ]
  },
  {
   "cell_type": "code",
   "execution_count": null,
   "id": "26d86991",
   "metadata": {},
   "outputs": [],
   "source": [
    "rcmc_unique_loop_coords = rcmc_unique_loops.join(all_rcmc_loops.set_index('loop_id'), on = 'loop_id', how = 'inner')"
   ]
  },
  {
   "cell_type": "code",
   "execution_count": null,
   "id": "bfa8b322",
   "metadata": {},
   "outputs": [],
   "source": [
    "# from capture_hic_comparisons.Rmd\n",
    "mifsud_unique_loops = pd.read_csv('mifsud_et_al_2015/mifsud_promoter_capture_HiC_unique_loops.txt', sep='\\t')"
   ]
  },
  {
   "cell_type": "code",
   "execution_count": null,
   "id": "82021d1f",
   "metadata": {},
   "outputs": [],
   "source": [
    "# significant interactions downloaded from Mifsud et al. and converted to hg38 coordinates\n",
    "mifsud_loop_coords = pd.read_csv('mifsud_et_al_2015/GM12878_signif_interactions.bedpe', sep='\\t',\n",
    "            names=['chrom1', 'start1', 'end1', 'chrom2', 'start2', 'end2', 'gene_ids', 'mifsud_loop_id'])"
   ]
  },
  {
   "cell_type": "code",
   "execution_count": null,
   "id": "9fdbbfbc",
   "metadata": {},
   "outputs": [],
   "source": [
    "mifsud_unique_loop_coords_with_annotation = mifsud_unique_loops.join(mifsud_loop_coords.set_index('mifsud_loop_id'), on='mifsud_loop_id', how='inner')"
   ]
  },
  {
   "cell_type": "code",
   "execution_count": null,
   "id": "d24f48a7",
   "metadata": {},
   "outputs": [],
   "source": [
    "pup_loops = pd.concat([mifsud_unique_loop_coords_with_annotation, rcmc_unique_loop_coords]) "
   ]
  },
  {
   "cell_type": "code",
   "execution_count": null,
   "id": "a7ce947e",
   "metadata": {},
   "outputs": [],
   "source": [
    "GM12878_clr = cooler.Cooler('/mnt/md0/clarice/realigned_rcmc_merged/GM12878_merged_realigned.50.mcool::resolutions/200')"
   ]
  },
  {
   "cell_type": "code",
   "execution_count": null,
   "id": "2a2793f1",
   "metadata": {},
   "outputs": [],
   "source": [
    "expected_df = cooltools.expected_cis(\n",
    "                    clr=GM12878_clr,\n",
    "                    view_df=region_df,\n",
    "                    smooth=True,\n",
    "                    aggregate_smoothed=True,\n",
    "                    smooth_sigma=0.1,\n",
    "                    nproc=16\n",
    "                )"
   ]
  },
  {
   "cell_type": "code",
   "execution_count": null,
   "id": "6e0ba8b2",
   "metadata": {},
   "outputs": [],
   "source": [
    "pup = coolpup.pileup(GM12878_clr, pup_loops, features_format='bedpe', view_df=region_df, expected_df=expected_df, nproc=16, flank=20000, groupby=['overlap'])"
   ]
  },
  {
   "cell_type": "code",
   "execution_count": null,
   "id": "87ba7076",
   "metadata": {},
   "outputs": [],
   "source": [
    "fg = plotpup.plot(pup.reset_index(),\n",
    "                  cols='overlap',\n",
    "                  col_order=['RCMC_unique', 'RCMC_overlap', 'pcHiC_unique'],\n",
    "                  score=True, cmap='coolwarm',\n",
    "                  scale='log', sym=False, vmax=2.5,\n",
    "                  height=5, despine=False, font_scale=2,\n",
    "                  font='Helvetica')\n",
    "\n",
    "plt.savefig('figures/mifsud_rcmc_loop_pileup.pdf')"
   ]
  }
 ],
 "metadata": {
  "language_info": {
   "name": "python"
  }
 },
 "nbformat": 4,
 "nbformat_minor": 5
}
