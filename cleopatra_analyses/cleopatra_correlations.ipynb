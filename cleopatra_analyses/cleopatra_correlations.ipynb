{
 "cells": [
  {
   "cell_type": "code",
   "execution_count": null,
   "id": "e68df895",
   "metadata": {},
   "outputs": [],
   "source": [
    "import cooltools\n",
    "from collections import defaultdict\n",
    "import cooler\n",
    "import numpy as np\n",
    "import pandas as pd\n",
    "\n",
    "import warnings\n",
    "warnings.simplefilter(action='ignore', category=FutureWarning)"
   ]
  },
  {
   "cell_type": "code",
   "execution_count": null,
   "id": "bf4c6dae",
   "metadata": {},
   "outputs": [],
   "source": [
    "regions = pd.read_csv('/mnt/md0/clarice/src/region_idx.txt', sep='\\t')"
   ]
  },
  {
   "cell_type": "markdown",
   "id": "e2d77220",
   "metadata": {},
   "source": [
    "Example with GM12878 RCMC vs holdout predictions, can be used for all other coolers"
   ]
  },
  {
   "cell_type": "code",
   "execution_count": null,
   "id": "db611e3a",
   "metadata": {},
   "outputs": [],
   "source": [
    "res = 500\n",
    "\n",
    "gm12878_rcmc = cooler.Cooler('/mnt/md0/clarice/fan_prediction_analyses/RCMC_matrices_to_clrs/GM12878/GM12878_500kb_RCMC_smoothed.mcool::resolutions/' + str(res))\n",
    "gm12878_pred = cooler.Cooler('/mnt/md0/clarice/fan_prediction_analyses/holdout_model_coolers/25_GM_newTestSet_43/25_GM_newTestSet_43_merged.mcool::resolutions/' + str(res))"
   ]
  },
  {
   "cell_type": "code",
   "execution_count": null,
   "id": "960906c6",
   "metadata": {},
   "outputs": [],
   "source": [
    "def calculate_corrs(rcmc_clr, pred_clr, region, res=500, max_range=1000):\n",
    "\n",
    "    distance_corr = defaultdict(list)\n",
    "\n",
    "    rcmc_mat = rcmc_clr.matrix(balance=False).fetch(region)\n",
    "    pred_mat = pred_clr.matrix(balance=False).fetch(region)\n",
    "\n",
    "    for offset in range(20, max_range):\n",
    "        distance = offset*res\n",
    "        rcmc_diag = cooltools.lib.numutils.get_diag(rcmc_mat, i=offset)\n",
    "        pred_diag = cooltools.lib.numutils.get_diag(pred_mat, i=offset)\n",
    "        current_df = pd.DataFrame({'rcmc': rcmc_diag, 'pred': pred_diag})\n",
    "        current_df = current_df[current_df['pred'] != 0]\n",
    "        correlation = current_df['rcmc'].corr(current_df['pred'], method = 'pearson')\n",
    "        distance_corr[distance].append(correlation)\n",
    "    df = pd.DataFrame.from_dict(distance_corr, orient='index', columns=['corr'])\n",
    "    df['distance'] = df.index\n",
    "\n",
    "    return df\n"
   ]
  }
 ],
 "metadata": {
  "language_info": {
   "name": "python"
  }
 },
 "nbformat": 4,
 "nbformat_minor": 5
}
