{
 "cells": [
  {
   "cell_type": "code",
   "execution_count": null,
   "id": "e68df895",
   "metadata": {},
   "outputs": [],
   "source": [
    "import cooltools\n",
    "from collections import defaultdict\n",
    "import cooler\n",
    "import numpy as np\n",
    "import pandas as pd\n",
    "\n",
    "import warnings\n",
    "warnings.simplefilter(action='ignore', category=FutureWarning)"
   ]
  },
  {
   "cell_type": "code",
   "execution_count": null,
   "id": "bf4c6dae",
   "metadata": {},
   "outputs": [],
   "source": [
    "regions = pd.read_csv('/mnt/md0/clarice/src/region_idx.txt', sep='\\t')"
   ]
  },
  {
   "cell_type": "markdown",
   "id": "e2d77220",
   "metadata": {},
   "source": [
    "Example with GM12878 RCMC vs holdout predictions, can be used for all other coolers"
   ]
  },
  {
   "cell_type": "code",
   "execution_count": null,
   "id": "db611e3a",
   "metadata": {},
   "outputs": [],
   "source": [
    "res = 500\n",
    "\n",
    "gm12878_rcmc = cooler.Cooler('/mnt/md0/clarice/fan_prediction_analyses/RCMC_matrices_to_clrs/GM12878/GM12878_500kb_RCMC_smoothed.mcool::resolutions/' + str(res))\n",
    "gm12878_pred = cooler.Cooler('/mnt/md0/clarice/fan_prediction_analyses/holdout_model_coolers/25_GM_newTestSet_43/25_GM_newTestSet_43_merged.mcool::resolutions/' + str(res))"
   ]
  },
  {
   "cell_type": "code",
   "execution_count": null,
   "id": "960906c6",
   "metadata": {},
   "outputs": [],
   "source": [
    "def calculate_corrs(rcmc_clr, pred_clr, region, res=500, max_range=1000):\n",
    "    \"\"\"\n",
    "    Caclulate correlations for each distance from the diagonal\n",
    "    \"\"\"\n",
    "    distance_corr = defaultdict(list)\n",
    "\n",
    "    rcmc_mat = rcmc_clr.matrix(balance=False).fetch(region)\n",
    "    pred_mat = pred_clr.matrix(balance=False).fetch(region)\n",
    "\n",
    "    for offset in range(20, max_range):\n",
    "        distance = offset*res\n",
    "        rcmc_diag = cooltools.lib.numutils.get_diag(rcmc_mat, i=offset)\n",
    "        pred_diag = cooltools.lib.numutils.get_diag(pred_mat, i=offset)\n",
    "        current_df = pd.DataFrame({'rcmc': rcmc_diag, 'pred': pred_diag})\n",
    "        current_df = current_df[current_df['pred'] != 0]\n",
    "        correlation = current_df['rcmc'].corr(current_df['pred'], method = 'pearson')\n",
    "        distance_corr[distance].append(correlation)\n",
    "    df = pd.DataFrame.from_dict(distance_corr, orient='index', columns=['corr'])\n",
    "    df['distance'] = df.index\n",
    "\n",
    "    return df\n"
   ]
  },
  {
   "cell_type": "code",
   "execution_count": null,
   "id": "f8b78d57",
   "metadata": {},
   "outputs": [],
   "source": [
    "def calculate_corrs_by_diag(rcmc, pred, res=500, max_range=1000, save=False):\n",
    "    \"\"\"\n",
    "    Calculate correlations for all regions that we are comparing\n",
    "    \"\"\"\n",
    "    all_corrs = pd.DataFrame(columns=['corr', 'distance', 'region_id'])\n",
    "\n",
    "    for idx, region in regions.iterrows():\n",
    "        current_region = region['chrom'] + ':' + str(region['start']) + '-' + str(region['end'])\n",
    "        current_corrs = calculate_corrs(rcmc, pred, current_region, res=res, max_range=max_range)\n",
    "        current_corrs['region_id'] = region['region_id']\n",
    "        all_corrs = pd.concat([all_corrs, current_corrs])\n",
    "\n",
    "    all_corrs.reset_index(inplace=True)\n",
    "\n",
    "    if save != False:\n",
    "        all_corrs.to_csv(save, sep='\\t', index=False)\n",
    "        \n",
    "    return all_corrs"
   ]
  },
  {
   "cell_type": "code",
   "execution_count": null,
   "id": "e1d9da12",
   "metadata": {},
   "outputs": [],
   "source": [
    "# write to file to plot in cleopatra_correlations.Rmd\n",
    "\n",
    "gm_pred_model_corrs = calculate_corrs_by_diag(gm12878_rcmc, gm12878_pred, save='diag_corrs/GM12878_model_25_diag_corrs.tsv')"
   ]
  }
 ],
 "metadata": {
  "language_info": {
   "name": "python"
  }
 },
 "nbformat": 4,
 "nbformat_minor": 5
}
