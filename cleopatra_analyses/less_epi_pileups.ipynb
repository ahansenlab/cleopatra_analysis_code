{
 "cells": [
  {
   "cell_type": "code",
   "execution_count": null,
   "metadata": {},
   "outputs": [],
   "source": [
    "import cooler\n",
    "import cooltools\n",
    "import coolpuppy\n",
    "from coolpuppy import coolpup\n",
    "from coolpuppy import plotpup\n",
    "import pandas as pd\n",
    "import bioframe\n",
    "import matplotlib.pyplot as plt\n",
    "import numpy as np\n",
    "import pickle\n",
    "import warnings\n",
    "warnings.simplefilter(action='ignore', category=FutureWarning)\n",
    "\n",
    "plt.rc('pdf',fonttype = 42)\n",
    "from matplotlib.font_manager import FontProperties\n",
    "\n",
    "default_font = FontProperties(fname=\"/mnt/md0/clarice/packages/fonts/Helvetica.ttf\")"
   ]
  },
  {
   "cell_type": "code",
   "execution_count": 2,
   "metadata": {},
   "outputs": [],
   "source": [
    "epis = ['3epi', '5epi', '6epi', 'less_input']"
   ]
  },
  {
   "cell_type": "code",
   "execution_count": null,
   "metadata": {},
   "outputs": [],
   "source": [
    "rcmc_clrs = {}\n",
    "\n",
    "for epi in epis:\n",
    "    rcmc_clrs[epi] = cooler.Cooler(f'/mnt/md0/clarice/rcmc_data/less_input_mcools/GM12878_{epi}_500bp_merged.mcool::resolutions/500')\n",
    "\n",
    "rcmc_clrs['full'] = cooler.Cooler('/mnt/md0/clarice/rcmc_data/predicted_mcools/25_GM_newTestSet_43_merged.mcool::resolutions/500')"
   ]
  },
  {
   "cell_type": "code",
   "execution_count": 4,
   "metadata": {},
   "outputs": [],
   "source": [
    "hg38_chromsizes = bioframe.fetch_chromsizes('hg38')\n",
    "hg38_cens = bioframe.fetch_centromeres('hg38')\n",
    "hg38_arms = bioframe.make_chromarms(hg38_chromsizes, hg38_cens)\n",
    "hg38_arms = hg38_arms[hg38_arms.chrom.isin(rcmc_clrs['less_input'].chromnames)].reset_index(drop=True)\n",
    "hg38_arms = hg38_arms[hg38_arms['chrom'] != 'chrY']"
   ]
  },
  {
   "cell_type": "code",
   "execution_count": 5,
   "metadata": {},
   "outputs": [],
   "source": [
    "region_df = pd.read_csv('/mnt/md0/clarice/src/500kb_prediction_regions.txt', sep='\\t').rename(columns={'region_id':'name'})\n",
    "region_df = bioframe.sort_bedframe(region_df, view_df=hg38_chromsizes)"
   ]
  },
  {
   "cell_type": "code",
   "execution_count": 6,
   "metadata": {},
   "outputs": [],
   "source": [
    "holdout_regions = region_df[region_df['name'].isin(['region3', 'region5', 'region10'])]\n",
    "holdout_regions = bioframe.sort_bedframe(holdout_regions, view_df=hg38_chromsizes)"
   ]
  },
  {
   "cell_type": "code",
   "execution_count": 7,
   "metadata": {},
   "outputs": [],
   "source": [
    "all_loops = pd.read_csv('all_rcmc_annotated_loops.tsv', sep = '\\t')\n",
    "GM12878_loops = all_loops[all_loops['celltype'] == 'GM12878']"
   ]
  },
  {
   "cell_type": "code",
   "execution_count": 8,
   "metadata": {},
   "outputs": [],
   "source": [
    "GM12878_loops_for_subset = GM12878_loops[['chrom1', 'start1', 'start2', 'name']]\n",
    "GM12878_loops_for_subset = GM12878_loops_for_subset.rename(columns={'start1': 'start', 'start2': 'end', 'chrom1': 'chrom'})\n",
    "\n",
    "GM12878_loops_holdout_names = bioframe.overlap(GM12878_loops_for_subset, holdout_regions, how='inner')"
   ]
  },
  {
   "cell_type": "code",
   "execution_count": 9,
   "metadata": {},
   "outputs": [],
   "source": [
    "GM12878_loops_in_holdout = GM12878_loops[GM12878_loops['name'].isin(GM12878_loops_holdout_names['name'])]"
   ]
  },
  {
   "cell_type": "code",
   "execution_count": 10,
   "metadata": {},
   "outputs": [],
   "source": [
    "GM12878_loops_in_holdout_anch1 = GM12878_loops_in_holdout[['chrom1', 'start1', 'end1', 'name']]\n",
    "GM12878_loops_in_holdout_anch1 = GM12878_loops_in_holdout_anch1.rename(columns={'start1': 'start', 'end1': 'end', 'chrom1': 'chrom'})\n",
    "\n",
    "GM12878_loops_in_holdout_anch2 = GM12878_loops_in_holdout[['chrom2', 'start2', 'end2', 'name']]\n",
    "GM12878_loops_in_holdout_anch2 = GM12878_loops_in_holdout_anch2.rename(columns={'start2': 'start', 'end2': 'end', 'chrom2': 'chrom'})"
   ]
  },
  {
   "cell_type": "code",
   "execution_count": 11,
   "metadata": {},
   "outputs": [],
   "source": [
    "CTCF_ChIP = pd.read_csv('/mnt/md0/clarice/GM12878_genomic_datasets/CTCF_ChIP.bed.gz', sep = '\\t', \n",
    "names = ['chrom', 'start', 'end', 'crap1', 'crap2', 'crap3', 'crap4', 'crap5', 'crap6', 'crap7'])\n",
    "CTCF_ChIP = CTCF_ChIP[['chrom', 'start', 'end']]"
   ]
  },
  {
   "cell_type": "code",
   "execution_count": 12,
   "metadata": {},
   "outputs": [],
   "source": [
    "GM12878_loops_in_holdout_anch1_CTCF = bioframe.overlap(GM12878_loops_in_holdout_anch1, CTCF_ChIP, how = 'inner')\n",
    "GM12878_loops_in_holdout_anch2_CTCF = bioframe.overlap(GM12878_loops_in_holdout_anch2, CTCF_ChIP, how = 'inner')"
   ]
  },
  {
   "cell_type": "code",
   "execution_count": 13,
   "metadata": {},
   "outputs": [],
   "source": [
    "GM12878_holdout_ctcf_loops = pd.merge(GM12878_loops_in_holdout_anch1_CTCF, GM12878_loops_in_holdout_anch2_CTCF, how = 'inner', on = 'name', suffixes=['1', '2'])\n",
    "GM12878_holdout_ctcf_loops = GM12878_holdout_ctcf_loops.drop(columns=list(GM12878_holdout_ctcf_loops.filter(regex='_')))"
   ]
  },
  {
   "cell_type": "code",
   "execution_count": 164,
   "metadata": {},
   "outputs": [],
   "source": [
    "H3K4me1_ChIP = pd.read_csv('/mnt/md0/clarice/GM12878_genomic_datasets/H3K4me1_ChIP.bed.gz', sep = '\\t', \n",
    "names = ['chrom', 'start', 'end', 'crap1', 'crap2', 'crap3', 'crap4', 'crap5', 'crap6', 'crap7'])\n",
    "H3K4me1_ChIP = H3K4me1_ChIP[['chrom', 'start', 'end']]"
   ]
  },
  {
   "cell_type": "code",
   "execution_count": 165,
   "metadata": {},
   "outputs": [],
   "source": [
    "GM12878_loops_in_holdout_anch1_H3K4me1 = bioframe.overlap(GM12878_loops_in_holdout_anch1, H3K4me1_ChIP, how = 'inner')\n",
    "GM12878_loops_in_holdout_anch2_H3K4me1 = bioframe.overlap(GM12878_loops_in_holdout_anch2, H3K4me1_ChIP, how = 'inner')"
   ]
  },
  {
   "cell_type": "code",
   "execution_count": 167,
   "metadata": {},
   "outputs": [],
   "source": [
    "GM12878_holdout_H3K4me1_loops = pd.merge(GM12878_loops_in_holdout_anch1_H3K4me1, GM12878_loops_in_holdout_anch2_H3K4me1, how = 'inner', on = 'name', suffixes=['1', '2'])\n",
    "GM12878_holdout_H3K4me1_loops = GM12878_holdout_H3K4me1_loops.drop(columns=list(GM12878_holdout_H3K4me1_loops.filter(regex='_')))"
   ]
  },
  {
   "cell_type": "code",
   "execution_count": 173,
   "metadata": {},
   "outputs": [],
   "source": [
    "H3K4me3_ChIP = pd.read_csv('/mnt/md0/clarice/GM12878_genomic_datasets/H3K4me3_ChIP.bed.gz', sep = '\\t', \n",
    "names = ['chrom', 'start', 'end', 'crap1', 'crap2', 'crap3', 'crap4', 'crap5', 'crap6', 'crap7'])\n",
    "H3K4me3_ChIP = H3K4me3_ChIP[['chrom', 'start', 'end']]\n",
    "\n",
    "GM12878_loops_in_holdout_anch1_H3K4me3 = bioframe.overlap(GM12878_loops_in_holdout_anch1, H3K4me3_ChIP, how = 'inner')\n",
    "GM12878_loops_in_holdout_anch2_H3K4me3 = bioframe.overlap(GM12878_loops_in_holdout_anch2, H3K4me3_ChIP, how = 'inner')\n",
    "\n",
    "GM12878_holdout_H3K4me3_loops = pd.merge(GM12878_loops_in_holdout_anch1_H3K4me3, GM12878_loops_in_holdout_anch2_H3K4me3, how = 'inner', on = 'name', suffixes=['1', '2'])\n",
    "GM12878_holdout_H3K4me3_loops = GM12878_holdout_H3K4me3_loops.drop(columns=list(GM12878_holdout_H3K4me3_loops.filter(regex='_')))"
   ]
  },
  {
   "cell_type": "code",
   "execution_count": null,
   "metadata": {},
   "outputs": [],
   "source": [
    "# no loops\n",
    "H3K9me3_ChIP = pd.read_csv('/mnt/md0/clarice/GM12878_genomic_datasets/H3K9me3_ChIP.bed.gz', sep = '\\t', \n",
    "names = ['chrom', 'start', 'end', 'crap1', 'crap2', 'crap3', 'crap4', 'crap5', 'crap6', 'crap7'])\n",
    "H3K9me3_ChIP = H3K9me3_ChIP[['chrom', 'start', 'end']]\n",
    "\n",
    "GM12878_loops_in_holdout_anch1_H3K9me3 = bioframe.overlap(GM12878_loops_in_holdout_anch1, H3K9me3_ChIP, how = 'inner')\n",
    "GM12878_loops_in_holdout_anch2_H3K9me3 = bioframe.overlap(GM12878_loops_in_holdout_anch2, H3K9me3_ChIP, how = 'inner')\n",
    "\n",
    "GM12878_holdout_H3K9me3_loops = pd.merge(GM12878_loops_in_holdout_anch1_H3K9me3, GM12878_loops_in_holdout_anch2_H3K9me3, how = 'inner', on = 'name', suffixes=['1', '2'])\n",
    "GM12878_holdout_H3K9me3_loops = GM12878_holdout_H3K9me3_loops.drop(columns=list(GM12878_holdout_H3K9me3_loops.filter(regex='_')))"
   ]
  },
  {
   "cell_type": "code",
   "execution_count": null,
   "metadata": {},
   "outputs": [],
   "source": [
    "# no loops\n",
    "H3K27me3_ChIP = pd.read_csv('/mnt/md0/clarice/GM12878_genomic_datasets/H3K27me3_ChIP.bed.gz', sep = '\\t', \n",
    "names = ['chrom', 'start', 'end', 'crap1', 'crap2', 'crap3', 'crap4', 'crap5', 'crap6', 'crap7'])\n",
    "H3K27me3_ChIP = H3K27me3_ChIP[['chrom', 'start', 'end']]\n",
    "\n",
    "GM12878_loops_in_holdout_anch1_H3K27me3 = bioframe.overlap(GM12878_loops_in_holdout_anch1, H3K27me3_ChIP, how = 'inner')\n",
    "GM12878_loops_in_holdout_anch2_H3K27me3 = bioframe.overlap(GM12878_loops_in_holdout_anch2, H3K27me3_ChIP, how = 'inner')\n",
    "\n",
    "GM12878_holdout_H3K27me3_loops = pd.merge(GM12878_loops_in_holdout_anch1_H3K27me3, GM12878_loops_in_holdout_anch2_H3K27me3, how = 'inner', on = 'name', suffixes=['1', '2'])\n",
    "GM12878_holdout_H3K27me3_loops = GM12878_holdout_H3K27me3_loops.drop(columns=list(GM12878_holdout_H3K27me3_loops.filter(regex='_')))"
   ]
  },
  {
   "cell_type": "code",
   "execution_count": null,
   "metadata": {},
   "outputs": [
    {
     "name": "stderr",
     "output_type": "stream",
     "text": [
      "INFO:root:creating a Pool of 16 workers\n"
     ]
    }
   ],
   "source": [
    "# Need this to replace the expected vectors with what we used to generate the coolers\n",
    "oe_vecs = {}\n",
    "\n",
    "for idx, row in holdout_regions.iterrows():\n",
    "    region_id = row['name'].strip('region')\n",
    "    f_oe = f'/mnt/md0/clarice/florence_tmp/RCMC_norm_factors/500/GM12878_{region_id}.npy'\n",
    "    oe_vecs[row['name']] = list(np.load(f_oe))\n",
    "\n",
    "expected_cis = cooltools.expected_cis(\n",
    "                clr=rcmc_clrs['experimental'],\n",
    "                view_df=region_df,\n",
    "                smooth=True,\n",
    "                aggregate_smoothed=True,\n",
    "                smooth_sigma=0.1,\n",
    "                nproc=16\n",
    "            )\n",
    "\n",
    "fake_expected_all_regions = pd.DataFrame()\n",
    "\n",
    "for idx, row in holdout_regions.iterrows():\n",
    "    current_df = expected_cis[expected_cis['region1'] == row['name']]\n",
    "    oe = oe_vecs[row['name']]\n",
    "    pad = len(current_df) - 4000\n",
    "    oe = oe + [0]*pad\n",
    "    current_df['count.avg'] = oe\n",
    "    current_df['balanced.avg'] = oe\n",
    "    fake_expected_all_regions = pd.concat([fake_expected_all_regions, current_df])\n",
    "\n",
    "fake_expected_all_regions.reset_index(inplace=True)"
   ]
  },
  {
   "cell_type": "code",
   "execution_count": null,
   "metadata": {},
   "outputs": [],
   "source": [
    "all_pups = {}\n",
    "\n",
    "# change for different loops\n",
    "for clr_type, clr in rcmc_clrs.items():\n",
    "    pup = coolpup.pileup(clr, GM12878_holdout_ctcf_loops, features_format='bedpe', view_df=holdout_regions, expected_df=fake_expected_all_regions, nproc=8, flank=20000, clr_weight_name=False)\n",
    "    all_pups[clr_type] = pup['data'][0]"
   ]
  },
  {
   "cell_type": "code",
   "execution_count": null,
   "metadata": {},
   "outputs": [],
   "source": [
    "def get_enrichment(amap, n, dec=2):\n",
    "    \"\"\"\n",
    "    Function directly from the coolpuppy package\n",
    "    \"\"\"\n",
    "    c = int(np.floor(amap.shape[0]/2))\n",
    "    return np.round(np.nanmean(amap[c-n//2:c+n//2+1, c-n//2:c+n//2+1]), decimals=dec)\n",
    "\n",
    "def annotate_enrichment(ax, amap, n, dec=2, size=6, bold=False):\n",
    "    \"\"\"\n",
    "    Function modified from the coolpuppy package, to control where the enrichment annotation goes\n",
    "    \"\"\"\n",
    "    enr = get_enrichment(amap, n, dec)\n",
    "    if bold == False:\n",
    "        ax.text(10, 40, enr, ha='left', va='bottom', fontsize=size, fontproperties = default_font)\n",
    "    else:\n",
    "        ax.text(10, 40, enr, ha='left', va='bottom', fontsize=size, fontproperties = FontProperties(fname=\"/mnt/md0/clarice/packages/fonts/helvetica-bold.ttf\"))"
   ]
  },
  {
   "cell_type": "code",
   "execution_count": null,
   "metadata": {},
   "outputs": [],
   "source": [
    "fig, axs = plt.subplots(figsize=[5, 10],\n",
    "                        nrows=1,\n",
    "                        ncols=5)\n",
    "\n",
    "# limits empirically determined - change for different plot\n",
    "\n",
    "for col_idx, epi_type in enumerate(['experimental', 'full', 'less_input', '5epi', '3epi']):\n",
    "    ax = axs[col_idx]\n",
    "    # limits for CTCF/H3K4me1 loops: (-1.5, 1.5)\n",
    "    # limits for H3K4me3 loops: (-1, 1)\n",
    "    amin, amax = (-1.5, 1.5)\n",
    "    data = all_pups[epi_type]\n",
    "    m = ax.imshow(np.log2(data), cmap='coolwarm', vmax = amax, vmin = amin)\n",
    "    ax.set_yticks([], [])\n",
    "    ax.set_xticks([], [])\n",
    "\n",
    "    annotate_enrichment(ax, data, 3, size=10)\n",
    "\n",
    "    ax.set_title(epi_type, rotation=0, size=12, fontproperties = default_font)\n",
    "    \n",
    "# Define a new axis for the colorbar using `add_axes`\n",
    "cax = fig.add_axes([ax.get_position().x1 + 0.01,  # x-position of colorbar\n",
    "                    ax.get_position().y0,        # y-position of colorbar\n",
    "                    0.01,                        # width of colorbar\n",
    "                    ax.get_position().height])   # height of colorbar\n",
    "\n",
    "# Add the colorbar to the specified axis\n",
    "# cbar = plt.colorbar(im, cax=cax)\n",
    "\n",
    "cb = plt.colorbar(m, cax=cax)\n",
    "mid = round((amin + amax)/2, 2)\n",
    "cb.set_ticks([amin, mid, amax])\n",
    "cb.set_ticklabels([amin, mid, amax], fontproperties = default_font)\n",
    "cb.ax.minorticks_off()\n",
    "\n",
    "plt.savefig('figures/CTCF_less_input_pileup.pdf')"
   ]
  },
  {
   "cell_type": "code",
   "execution_count": null,
   "metadata": {},
   "outputs": [],
   "source": []
  }
 ],
 "metadata": {
  "kernelspec": {
   "display_name": "rcmc",
   "language": "python",
   "name": "python3"
  },
  "language_info": {
   "codemirror_mode": {
    "name": "ipython",
    "version": 3
   },
   "file_extension": ".py",
   "mimetype": "text/x-python",
   "name": "python",
   "nbconvert_exporter": "python",
   "pygments_lexer": "ipython3",
   "version": "3.9.16"
  }
 },
 "nbformat": 4,
 "nbformat_minor": 2
}
