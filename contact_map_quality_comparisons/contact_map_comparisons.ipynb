{
 "cells": [
  {
   "cell_type": "code",
   "execution_count": 1,
   "metadata": {},
   "outputs": [],
   "source": [
    "import cooler\n",
    "import cooltools\n",
    "import bioframe\n",
    "import pandas as pd\n",
    "import numpy as np"
   ]
  },
  {
   "cell_type": "markdown",
   "metadata": {},
   "source": [
    "### Calculate P(s) and derivative for RCMC, Micro-C and Hi-C data\n",
    "All analyses in this section are more or less taken straight from the [cooltools](https://cooltools.readthedocs.io/en/latest/notebooks/contacts_vs_distance.html) documentation  \n",
    "Plotting was performed in the contact_map_comparisons_plotting.Rmd file"
   ]
  },
  {
   "cell_type": "code",
   "execution_count": 2,
   "metadata": {},
   "outputs": [],
   "source": [
    "celltypes = ['GM12878', 'HCT116', 'K562', 'H1']"
   ]
  },
  {
   "cell_type": "code",
   "execution_count": 3,
   "metadata": {},
   "outputs": [],
   "source": [
    "clrs = {}\n",
    "res = 1000\n",
    "\n",
    "for celltype in celltypes:\n",
    "    clrs[celltype] = cooler.Cooler(f'/mnt/md0/clarice/realigned_rcmc_merged/{celltype}_merged_realigned.50.mcool::resolutions/{res}') \n",
    "\n",
    "microc_clrs = {}\n",
    "\n",
    "for celltype in celltypes[:3]:\n",
    "    microc_clrs[celltype] = cooler.Cooler(f'/mnt/md0/clarice/realigned_microc/{celltype}_microc.50.mcool::resolutions/{res}')\n",
    "\n",
    "microc_clrs['H1'] = cooler.Cooler(f'/mnt/md0/clarice/comparison_datasets/krietenstein_H1_microc.50.mcool::resolutions/{res}')\n",
    "\n",
    "harris_hic = cooler.Cooler(f'/mnt/md0/clarice/comparison_datasets/GM12878_Harris_hg38_hic_200bp_matrix.mcool::resolutions/{res}')"
   ]
  },
  {
   "cell_type": "code",
   "execution_count": 4,
   "metadata": {},
   "outputs": [],
   "source": [
    "hg38_chromsizes = bioframe.fetch_chromsizes('hg38')\n",
    "region_df = pd.read_csv('/mnt/md0/clarice/src/region_idx.txt', sep='\\t').rename(columns={'region_id':'name'})\n",
    "region_df = bioframe.sort_bedframe(region_df, view_df=hg38_chromsizes)"
   ]
  },
  {
   "cell_type": "code",
   "execution_count": 5,
   "metadata": {},
   "outputs": [],
   "source": [
    "def calculate_cvd(clr):\n",
    "    cvd_smooth_agg = cooltools.expected_cis(\n",
    "        clr=clr,\n",
    "        view_df=region_df,\n",
    "        smooth=True,\n",
    "        aggregate_smoothed=True,\n",
    "        smooth_sigma=0.1,\n",
    "        nproc=8\n",
    "    )\n",
    "\n",
    "    return cvd_smooth_agg"
   ]
  },
  {
   "cell_type": "code",
   "execution_count": null,
   "metadata": {},
   "outputs": [],
   "source": [
    "for celltype, clr in clrs.items():\n",
    "    cvd = calculate_cvd(clr)\n",
    "    cvd.to_csv(f'region_ps/{celltype}_rcmc_cvd_table.txt', sep='\\t', index=False)"
   ]
  },
  {
   "cell_type": "code",
   "execution_count": null,
   "metadata": {},
   "outputs": [],
   "source": [
    "for celltype, clr in microc_clrs.items():\n",
    "    cvd = calculate_cvd(clr)\n",
    "    cvd.to_csv(f'region_ps/{celltype}_microc_regions_cvd_table.txt', sep='\\t', index=False)"
   ]
  },
  {
   "cell_type": "code",
   "execution_count": null,
   "metadata": {},
   "outputs": [],
   "source": [
    "cvd = calculate_cvd(harris_hic)\n",
    "cvd.to_csv(f'region_ps/harris_hic_regions_cvd_table.txt', sep='\\t', index=False)"
   ]
  },
  {
   "cell_type": "code",
   "execution_count": null,
   "metadata": {},
   "outputs": [],
   "source": [
    "rcmc_cvds = {}\n",
    "for celltype in celltypes:\n",
    "    rcmc_cvds[celltype] = pd.read_csv(f'region_ps/{celltype}_rcmc_cvd_table.txt', sep='\\t')\n",
    "\n",
    "microc_cvds = {}\n",
    "for celltype in celltypes:\n",
    "    microc_cvds[celltype] = pd.read_csv(f'region_ps/{celltype}_microc_regions_cvd_table.txt', sep='\\t')\n",
    "\n",
    "harris_cvd = pd.read_csv(f'region_ps/harris_hic_regions_cvd_table.txt', sep='\\t')"
   ]
  },
  {
   "cell_type": "code",
   "execution_count": 6,
   "metadata": {},
   "outputs": [],
   "source": [
    "def calculate_der(cvd):\n",
    "     cvd['balanced.avg.smoothed.agg'].loc[cvd['dist'] < 2] = np.nan\n",
    "     cvd_merged = cvd.drop_duplicates(subset=['dist'])[['dist_bp', 'balanced.avg.smoothed.agg']]\n",
    "     # Calculate derivative in log-log space\n",
    "     der = np.gradient(np.log(cvd_merged['balanced.avg.smoothed.agg']),\n",
    "                    np.log(cvd_merged['dist_bp']))\n",
    "     \n",
    "     cvd_merged['der'] = der\n",
    "     \n",
    "     return cvd_merged"
   ]
  },
  {
   "cell_type": "code",
   "execution_count": null,
   "metadata": {},
   "outputs": [],
   "source": [
    "for celltype, cvd in rcmc_cvds.items():\n",
    "    current_der = calculate_der(cvd)\n",
    "    current_der.to_csv(f'region_ps/{celltype}_rcmc_der_table.txt', sep='\\t', index=False)"
   ]
  },
  {
   "cell_type": "code",
   "execution_count": null,
   "metadata": {},
   "outputs": [],
   "source": [
    "for celltype, cvd in microc_cvds.items():\n",
    "    current_der = calculate_der(cvd)\n",
    "    current_der.to_csv(f'region_ps/{celltype}_microc_der_table.txt', sep='\\t', index=False)"
   ]
  },
  {
   "cell_type": "code",
   "execution_count": null,
   "metadata": {},
   "outputs": [],
   "source": [
    "harris_der = calculate_der(harris_cvd)\n",
    "harris_der.to_csv(f'region_ps/harris_hic_der_table.txt', sep='\\t', index=False)"
   ]
  },
  {
   "cell_type": "markdown",
   "metadata": {},
   "source": [
    "### Calculate fraction of bins with >1 read for each distance from the diagonal in RCMC, Micro-C and Hi-C data\n",
    "Plotting was performed in the contact_map_comparisons_plotting.Rmd file"
   ]
  },
  {
   "cell_type": "code",
   "execution_count": null,
   "metadata": {},
   "outputs": [],
   "source": [
    "rcmc_coolers = {}\n",
    "\n",
    "for celltype in ['GM12878', 'HCT116', 'K562', 'H1']:\n",
    "    rcmc_coolers[celltype] = f'/mnt/md0/clarice/realigned_rcmc_merged/{celltype}_merged_realigned.50.mcool'\n",
    "\n",
    "microc_coolers = {}\n",
    "\n",
    "for celltype in ['GM12878', 'HCT116', 'K562']:\n",
    "    microc_coolers[celltype] = f'/mnt/md0/clarice/realigned_microc/{celltype}_microc.50.mcool'\n",
    "\n",
    "microc_coolers['H1'] = '/mnt/md0/clarice/comparison_datasets/krietenstein_H1_microc.50.mcool'\n",
    "\n",
    "hic_cooler = {'GM12878': '/mnt/md0/clarice/comparison_datasets/GM12878_Harris_hg38_hic_200bp_matrix.mcool'}"
   ]
  },
  {
   "cell_type": "code",
   "execution_count": null,
   "metadata": {},
   "outputs": [],
   "source": [
    "def calculate_distance_frac(clrs, regions, distances, res, save=False):\n",
    "    \"\"\"\n",
    "    Caclulate fraction of bins filled for each distance. Code modified from Goel et al., 2013\n",
    "    \"\"\"\n",
    "    full_df = pd.DataFrame(columns = distances)\n",
    "\n",
    "    for clr_name, clr_filename in clrs.items():\n",
    "        \n",
    "        clr = cooler.Cooler(clr_filename + '::resolutions/' + str(res))\n",
    "        frac_across_distances = {}\n",
    "\n",
    "        for distance in distances:\n",
    "            \n",
    "            current_total_bins = 0 \n",
    "            current_nonzero_bins = 0       \n",
    "            \n",
    "            for reg in regions:        \n",
    "                reg_mat = clr.matrix(balance=False).fetch(reg)\n",
    "                bins = len(reg_mat)\n",
    "                offset = distance // res - 1\n",
    "                binsAtDiag = bins - offset\n",
    "                current_total_bins += binsAtDiag\n",
    "\n",
    "                x = offset\n",
    "                y = 0\n",
    "                nonZeroCount = 0\n",
    "                while x < len(reg_mat):\n",
    "                    val = reg_mat[y][x]\n",
    "                    if val > 0:\n",
    "                        nonZeroCount += 1\n",
    "                    x += 1\n",
    "                    y += 1\n",
    "                current_nonzero_bins += nonZeroCount\n",
    "        \n",
    "            frac_across_distances[distance] = current_nonzero_bins/current_total_bins\n",
    "        df = pd.DataFrame.from_records([frac_across_distances])\n",
    "        df.index = ['frac_filled']\n",
    "        df = df.T\n",
    "        df['clr'] = clr_name\n",
    "        full_df = pd.concat([full_df, df], axis = 0)\n",
    "\n",
    "    full_df.index.name = 'distance'\n",
    "    full_df.reset_index(inplace = True)\n",
    "    full_df = full_df[['clr', 'distance', 'frac_filled']]\n",
    "\n",
    "    if save == False:\n",
    "        return full_df\n",
    "    else:\n",
    "        full_df.to_csv(save, sep = '\\t')"
   ]
  },
  {
   "cell_type": "code",
   "execution_count": null,
   "metadata": {},
   "outputs": [],
   "source": [
    "distances = [1000,2500,5000,10000,25000,50000,100000,250000,500000,1000000] # input the desired contact distance diagonal in bp\n",
    "regions = ['chr6:25111952-28621868','chr5:157036231-160147469','chr1:207626481-210338298','chr4:61369236-64434279','chr19:36027639-39756265',\n",
    "               'chr8:124988367-129795630', 'chr6:29678698-32256197', 'chrX:47081617-49442070', 'chr1:237286814-240531042', 'chr7:10480243-13506262', \n",
    "               'chr8:62918949-66566105', 'chr4:181289951-184014354',\n",
    "               'chr3:118624552-121533938', 'chr9:106603383-109909256']\n",
    "\n",
    "calculate_distance_frac(rcmc_coolers, regions, distances, 200, save = 'RCMC_regions_all_fraction_filled_by_distance.tsv')\n",
    "calculate_distance_frac(microc_coolers, regions, distances, 200, save = 'microc_regions_all_fraction_filled_by_distance.tsv')\n",
    "calculate_distance_frac(hic_cooler, regions, distances, 200, save = 'harris_hic_fraction_filled_by_distance.tsv')"
   ]
  }
 ],
 "metadata": {
  "kernelspec": {
   "display_name": "Python 3",
   "language": "python",
   "name": "python3"
  },
  "language_info": {
   "codemirror_mode": {
    "name": "ipython",
    "version": 3
   },
   "file_extension": ".py",
   "mimetype": "text/x-python",
   "name": "python",
   "nbconvert_exporter": "python",
   "pygments_lexer": "ipython3",
   "version": "3.10.15"
  }
 },
 "nbformat": 4,
 "nbformat_minor": 2
}
